{
 "cells": [
  {
   "cell_type": "code",
   "execution_count": 50,
   "metadata": {},
   "outputs": [],
   "source": [
    "import astroquery\n",
    "from astroquery.alma import Alma\n",
    "#Documentation: https://astroquery.readthedocs.io/en/latest/alma/alma.html\n",
    "#Install: https://astroquery.readthedocs.io/en/latest/#installation"
   ]
  },
  {
   "cell_type": "markdown",
   "metadata": {},
   "source": [
    "### The ALMA Astroquery keywords"
   ]
  },
  {
   "cell_type": "code",
   "execution_count": 51,
   "metadata": {},
   "outputs": [
    {
     "name": "stdout",
     "output_type": "stream",
     "text": [
      "#####KEYWORDS\n",
      "\n",
      "Most common ALMA query keywords are listed below. These keywords are part of the ALMA ObsCore model, an IVOA standard for metadata representation (3rd column). They were also present in original ALMA Web form and, for backwards compatibility can be accessed with their old names (2nd column).\n",
      "More elaborate queries on the ObsCore model are possible with `query_sia` or `query_tap` methods\n",
      "  Description                       Original ALMA keyword               ObsCore keyword                    \n",
      "-------------------------------------------------------------------------------------------------------\n",
      "\n",
      "Position\n",
      "  Source name (astropy Resolver)    source_name_resolver                SkyCoord.from_name                 \n",
      "  Source name (ALMA)                source_name_alma                    target_name                        \n",
      "  RA Dec (Sexagesimal)              ra_dec                              s_ra, s_dec                        \n",
      "  Galactic (Degrees)                galactic                            gal_longitude, gal_latitude        \n",
      "  Angular resolution (arcsec)       spatial_resolution                  spatial_resolution                 \n",
      "  Largest angular scale (arcsec)    spatial_scale_max                   spatial_scale_max                  \n",
      "  Field of view (arcsec)            fov                                 s_fov                              \n",
      "\n",
      "Energy\n",
      "  Frequency (GHz)                   frequency                           frequency                          \n",
      "  Bandwidth (GHz)                   bandwidth                           bandwidth                          \n",
      "  Spectral resolution (KHz)         spectral_resolution                 em_resolution                      \n",
      "  Band                              band_list                           band_list                          \n",
      "\n",
      "Time\n",
      "  Observation date                  start_date                          t_min                              \n",
      "  Integration time (s)              integration_time                    t_exptime                          \n",
      "\n",
      "Polarization\n",
      "  Polarisation type (Single, Dual, Full) polarisation_type                   pol_states                         \n",
      "\n",
      "Observation\n",
      "  Line sensitivity (10 km/s) (mJy/beam) line_sensitivity                    sensitivity_10kms                  \n",
      "  Continuum sensitivity (mJy/beam)  continuum_sensitivity               cont_sensitivity_bandwidth         \n",
      "  Water vapour (mm)                 water_vapour                        pvw                                \n",
      "\n",
      "Project\n",
      "  Project code                      project_code                        proposal_id                        \n",
      "  Project title                     project_title                       obs_title                          \n",
      "  PI name                           pi_name                             obs_creator_name                   \n",
      "  Proposal authors                  proposal_authors                    proposal_authors                   \n",
      "  Project abstract                  project_abstract                    proposal_abstract                  \n",
      "  Publication count                 publication_count                   NA                                 \n",
      "  Science keyword                   science_keyword                     science_keyword                    \n",
      "\n",
      "Publication\n",
      "  Bibcode                           bibcode                             bib_reference                      \n",
      "  Title                             pub_title                           pub_title                          \n",
      "  First author                      first_author                        first_author                       \n",
      "  Authors                           authors                             authors                            \n",
      "  Abstract                          pub_abstract                        pub_abstract                       \n",
      "  Year                              publication_year                    pub_year                           \n",
      "\n",
      "Options\n",
      "  Public data only                  public_data                         data_rights                        \n",
      "  Science observations only         science_observations                calib_level                        \n",
      "\n",
      "Examples of queries:\n",
      "Alma.query('proposal_id':'2011.0.00131.S'}\n",
      "Alma.query({'band_list': ['5', '7']}\n",
      "Alma.query({'source_name_alma': 'GRB021004'})\n",
      "Alma.query(payload=dict(project_code='2017.1.01355.L', source_name_alma='G008.67'))\n",
      "#####ADVANCED SEARCH KEYWORDS\n",
      "Table to query is \"voa.ObsCore\".\n",
      "For example: \"select top 1 * from ivoa.ObsCore\"\n",
      "The scheme of the table is as follows.\n",
      "\n",
      "  Name                 Type            Unit       Description\n",
      "------------------------------------------------------------------------------------------\n",
      "  access_format        char(9)                    Content format of the data\n",
      "  access_url           char(72*)                  URL to download the data\n",
      "  antenna_arrays       char(660*)                 Blank-separated list of Pad:Antenna pairs, i.e., A109:DV09 J504:DV02 J505:DV05 for antennas DV09, DV02 and DV05 sitting on pads A109, J504, and J505, respectively.\n",
      "  asdm_uid             char(32*)                  UID of the ASDM containing this Field.\n",
      "  authors              char(4000*)                Full list of first author and all co-authors\n",
      "  band_list            char(30*)                  Space delimited list of bands\n",
      "  bandwidth            double          GHz        Total Bandwidth\n",
      "  bib_reference        char(4000*)                Bibliography code\n",
      "  calib_level          int                        calibration level (2 or 3). 2 if product_type = MOUS, 3 if product_type = GOUS\n",
      "  cont_sensitivity_bandwidth double          mJy/beam   Estimated noise in the aggregated continuum bandwidth. Note this is an indication only, it does not include the effects of flagging or dynamic range limitations.\n",
      "  data_rights          char(11)                   Access to data.\n",
      "  dataproduct_type     char(5*)                   type of product\n",
      "  em_max               double          m          stop spectral coordinate value\n",
      "  em_min               double          m          start spectral coordinate value\n",
      "  em_res_power         double                     typical spectral resolution\n",
      "  em_resolution        double          m          Estimated frequency resolution from all the spectral windows, using median values of channel widths.\n",
      "  facility_name        char(3)                    telescope name\n",
      "  first_author         char(256*)                 The first author as provided by <a href=\"http://telbib.eso.org\">telbib.eso.org</a>.\n",
      "  frequency            double          GHz        Observed (tuned) reference frequency on the sky.\n",
      "  frequency_support    char(4000*)     GHz        All frequency ranges used by the field\n",
      "  gal_latitude         double          deg        Galactic latitude of the observation for RA/Dec. Estimated using PyEphem and RA/Dec.\n",
      "  gal_longitude        double          deg        Galactic longitude of the observation for RA/Dec. Estimated using PyEphem and RA/Dec.\n",
      "  group_ous_uid        char(64*)                  Group OUS ID\n",
      "  instrument_name      char(4)                    instrument name\n",
      "  is_mosaic            char(1)                    Flag to indicate if this ASDM represents a mosaic or not.\n",
      "  lastModified         char(*)                    Time stamp of last modification of the metadata\n",
      "  member_ous_uid       char(64*)                  Member OUS ID\n",
      "  o_ucd                char(35)                   UCD describing the observable axis (pixel values)\n",
      "  obs_collection       char(4)                    short name for the data collection\n",
      "  obs_creator_name     char(256*)                 case-insensitive partial match over the full PI name. Wildcards can be used\n",
      "  obs_id               char(64*)                  internal dataset identifier\n",
      "  obs_publisher_did    char(33*)                  publisher dataset identifier\n",
      "  obs_release_date     char(*)                    timestamp of date the data becomes publicly available\n",
      "  obs_title            char(256*)                 Case-insensitive search over the project title\n",
      "  pol_states           char(64*)                  polarization states present in the data\n",
      "  proposal_abstract    char(4000*)                Text search on the proposal abstract. Only abstracts will be returned which contain the given text. The search is case-insensitive.\n",
      "  proposal_authors     char(2000*)                Full name of CoIs .\n",
      "  proposal_id          char(64*)                  Identifier of proposal to which NO observation belongs.\n",
      "  pub_abstract         char(4000*)                Case insensitive text search through the abstract of the publication.\n",
      "  pub_title            char(256*)                 Case insensitive search through the title of the publication.\n",
      "  publication_year     int                        The year the publication did appear in the printed version of the refereed journal.\n",
      "  pwv                  float           mm         Estimated precipitable water vapour from the XML_CALWVR_ENTITIES table.\n",
      "  qa2_passed           char(1)                    Quality Assessment 2 status: does the Member / Group OUS fulfil the PI's requirements?\n",
      "  s_dec                double          deg        DEC of central coordinates\n",
      "  s_fov                double          deg        size of the region covered (~diameter of minimum bounding circle)\n",
      "  s_ra                 double          deg        RA of central coordinates\n",
      "  s_region             char(*)         deg        region bounded by observation\n",
      "  s_resolution         double          deg        typical spatial resolution\n",
      "  scan_intent          char(256*)                 Scan intent list for the observed field.\n",
      "  schedblock_name      char(128*)                 Name of the Scheduling Block used as a template for executing the ASDM containing this Field.\n",
      "  science_keyword      char(200*)                 None\n",
      "  science_observation  char(1)                    Flag to indicate whether this is a science observation.\n",
      "  scientific_category  char(200*)                 None\n",
      "  sensitivity_10kms    double          mJy/beam   Estimated noise in an nominal 10km/s bandwidth. Note this is an indication only, it does not include the effects of flagging or Hanning smoothing, and a 10km/s bandwidth may not be achievable with the data as taken.\n",
      "  spatial_resolution   double          arcsec     Average of the maximum and minimum spatial resolution values of all spectral windows\n",
      "  spatial_scale_max    double          arcsec     Due to the fact that radio antennas can not be placed infinitely close, measurements do have a smallest separation which translates into a maximal angular distance beyond which features can not be resolved reliably any more. Adding observations with the ALMA Total Power array can add those missing largest scales.\n",
      "  t_exptime            double          s          exposure time of observation\n",
      "  t_max                double          d          end time of observation (MJD)\n",
      "  t_min                double          d          start time of observation (MJD)\n",
      "  t_resolution         double          s          typical temporal resolution\n",
      "  target_name          char(256*)                 name of intended target\n",
      "  type                 char(16*)                  Type flags.\n",
      "  velocity_resolution  double          m/s        Estimated velocity resolution from all the spectral windows, from frequency resolution.\n"
     ]
    }
   ],
   "source": [
    "print('#####KEYWORDS')\n",
    "Alma.help()\n",
    "print('#####ADVANCED SEARCH KEYWORDS')\n",
    "Alma.help_tap() # --> More elaborate queries\n"
   ]
  },
  {
   "cell_type": "markdown",
   "metadata": {},
   "source": [
    "## A few searches\n",
    "### A sample search based on keyword, resolution, and proposal year\n",
    "Note: Science keywords for ALMA are listed [here](https://almascience.nrao.edu/proposing/proposers-guide#section-61)\n"
   ]
  },
  {
   "cell_type": "code",
   "execution_count": 52,
   "metadata": {},
   "outputs": [],
   "source": [
    "## Query based on science keyword, resolution (related to \"beamsize\"), and proposal year (2016 in this case)\n",
    "#mydict = {'science_keyword':['Outflows, jets and ionized winds','Disks around low-mass stars'],'spatial_resolution':'<0.2','proposal_id':'2016.*'}\n",
    "mydict = {'science_keyword':'Disks around low-mass stars','spatial_resolution':'<0.2','proposal_id':'2016.*'}\n",
    "myresults = Alma.query(payload=mydict)\n"
   ]
  },
  {
   "cell_type": "code",
   "execution_count": 53,
   "metadata": {},
   "outputs": [
    {
     "data": {
      "text/html": [
       "<i>Table length=2152</i>\n",
       "<table id=\"table5054506040\" class=\"table-striped table-bordered table-condensed\">\n",
       "<thead><tr><th>target_name</th><th>s_ra</th><th>s_dec</th><th>proposal_id</th><th>band_list</th><th>scan_intent</th><th>dataproduct_type</th></tr></thead>\n",
       "<thead><tr><th></th><th>deg</th><th>deg</th><th></th><th></th><th></th><th></th></tr></thead>\n",
       "<thead><tr><th>bytes256</th><th>float64</th><th>float64</th><th>bytes64</th><th>bytes30</th><th>bytes256</th><th>bytes5</th></tr></thead>\n",
       "<tr><td>J0440+1437</td><td>70.08808040003528</td><td>14.632486600002956</td><td>2016.1.00158.S</td><td>7</td><td>CHECK WVR</td><td>cube</td></tr>\n",
       "<tr><td>J0440+1437</td><td>70.08808040003528</td><td>14.632486600002956</td><td>2016.1.00158.S</td><td>7</td><td>CHECK WVR</td><td>cube</td></tr>\n",
       "<tr><td>J0440+1437</td><td>70.08808040003528</td><td>14.632486600002956</td><td>2016.1.00158.S</td><td>7</td><td>CHECK WVR</td><td>cube</td></tr>\n",
       "<tr><td>J0440+1437</td><td>70.08808040003528</td><td>14.632486600002956</td><td>2016.1.00158.S</td><td>7</td><td>CHECK WVR</td><td>cube</td></tr>\n",
       "<tr><td>J0440+1437</td><td>70.08808040003528</td><td>14.632486600002956</td><td>2016.1.00158.S</td><td>7</td><td>CHECK WVR</td><td>cube</td></tr>\n",
       "<tr><td>J0440+1437</td><td>70.08808040003528</td><td>14.632486600002956</td><td>2016.1.00158.S</td><td>7</td><td>CHECK WVR</td><td>cube</td></tr>\n",
       "<tr><td>J0440+1437</td><td>70.08808040003528</td><td>14.632486600002956</td><td>2016.1.00158.S</td><td>7</td><td>CHECK WVR</td><td>cube</td></tr>\n",
       "<tr><td>DR_Tau</td><td>71.77593244943604</td><td>16.978478356208004</td><td>2016.1.00158.S</td><td>7</td><td>TARGET</td><td>cube</td></tr>\n",
       "<tr><td>DR_Tau</td><td>71.77593244943604</td><td>16.978478356208004</td><td>2016.1.00158.S</td><td>7</td><td>TARGET</td><td>cube</td></tr>\n",
       "<tr><td>...</td><td>...</td><td>...</td><td>...</td><td>...</td><td>...</td><td>...</td></tr>\n",
       "<tr><td>J0510+1800</td><td>77.50987083332886</td><td>18.01155055555559</td><td>2016.A.00026.S</td><td>6</td><td>BANDPASS FLUX WVR</td><td>cube</td></tr>\n",
       "<tr><td>J0510+1800</td><td>77.50987083332886</td><td>18.01155055555559</td><td>2016.A.00026.S</td><td>6</td><td>BANDPASS FLUX WVR</td><td>cube</td></tr>\n",
       "<tr><td>J0547+2721</td><td>86.89228719998108</td><td>27.36578960000124</td><td>2016.A.00026.S</td><td>6</td><td>PHASE WVR</td><td>image</td></tr>\n",
       "<tr><td>J0547+2721</td><td>86.89228719998108</td><td>27.36578960000124</td><td>2016.A.00026.S</td><td>6</td><td>PHASE WVR</td><td>image</td></tr>\n",
       "<tr><td>J0547+2721</td><td>86.89228719998108</td><td>27.36578960000124</td><td>2016.A.00026.S</td><td>6</td><td>PHASE WVR</td><td>image</td></tr>\n",
       "<tr><td>J0547+2721</td><td>86.89228719998108</td><td>27.36578960000124</td><td>2016.A.00026.S</td><td>6</td><td>PHASE WVR</td><td>cube</td></tr>\n",
       "<tr><td>J0547+2721</td><td>86.89228719998108</td><td>27.36578960000124</td><td>2016.A.00026.S</td><td>6</td><td>PHASE WVR</td><td>image</td></tr>\n",
       "<tr><td>J0547+2721</td><td>86.89228719998108</td><td>27.36578960000124</td><td>2016.A.00026.S</td><td>6</td><td>PHASE WVR</td><td>image</td></tr>\n",
       "<tr><td>J0547+2721</td><td>86.89228719998108</td><td>27.36578960000124</td><td>2016.A.00026.S</td><td>6</td><td>PHASE WVR</td><td>cube</td></tr>\n",
       "<tr><td>J0547+2721</td><td>86.89228719998108</td><td>27.36578960000124</td><td>2016.A.00026.S</td><td>6</td><td>PHASE WVR</td><td>cube</td></tr>\n",
       "</table>"
      ],
      "text/plain": [
       "<Table length=2152>\n",
       "target_name        s_ra       ...    scan_intent    dataproduct_type\n",
       "                   deg        ...                                   \n",
       "  bytes256       float64      ...      bytes256          bytes5     \n",
       "----------- ----------------- ... ----------------- ----------------\n",
       " J0440+1437 70.08808040003528 ...         CHECK WVR             cube\n",
       " J0440+1437 70.08808040003528 ...         CHECK WVR             cube\n",
       " J0440+1437 70.08808040003528 ...         CHECK WVR             cube\n",
       " J0440+1437 70.08808040003528 ...         CHECK WVR             cube\n",
       " J0440+1437 70.08808040003528 ...         CHECK WVR             cube\n",
       " J0440+1437 70.08808040003528 ...         CHECK WVR             cube\n",
       " J0440+1437 70.08808040003528 ...         CHECK WVR             cube\n",
       "     DR_Tau 71.77593244943604 ...            TARGET             cube\n",
       "     DR_Tau 71.77593244943604 ...            TARGET             cube\n",
       "        ...               ... ...               ...              ...\n",
       " J0510+1800 77.50987083332886 ... BANDPASS FLUX WVR             cube\n",
       " J0510+1800 77.50987083332886 ... BANDPASS FLUX WVR             cube\n",
       " J0547+2721 86.89228719998108 ...         PHASE WVR            image\n",
       " J0547+2721 86.89228719998108 ...         PHASE WVR            image\n",
       " J0547+2721 86.89228719998108 ...         PHASE WVR            image\n",
       " J0547+2721 86.89228719998108 ...         PHASE WVR             cube\n",
       " J0547+2721 86.89228719998108 ...         PHASE WVR            image\n",
       " J0547+2721 86.89228719998108 ...         PHASE WVR            image\n",
       " J0547+2721 86.89228719998108 ...         PHASE WVR             cube\n",
       " J0547+2721 86.89228719998108 ...         PHASE WVR             cube"
      ]
     },
     "execution_count": 53,
     "metadata": {},
     "output_type": "execute_result"
    }
   ],
   "source": [
    "myresults['target_name','s_ra','s_dec','proposal_id','band_list','scan_intent','dataproduct_type']\n"
   ]
  },
  {
   "cell_type": "markdown",
   "metadata": {},
   "source": [
    "### Another search based on \"source name\"\n",
    "*Notice the differences ... be careful?*"
   ]
  },
  {
   "cell_type": "code",
   "execution_count": 54,
   "metadata": {},
   "outputs": [],
   "source": [
    "mydict1 = {'band_list':'6','SkyCoord.from_name':'DG_Tau'} ## need to look into this \"Source name (astropy Resolver)\"\n",
    "mydict2 = {'band_list':'6','target_name':'DGTau'}\n",
    "myresults1 = Alma.query(payload=mydict1)\n",
    "myresults2 = Alma.query(payload=mydict2)"
   ]
  },
  {
   "cell_type": "code",
   "execution_count": 55,
   "metadata": {},
   "outputs": [
    {
     "data": {
      "text/html": [
       "<i>Table length=1438</i>\n",
       "<table id=\"table5054604680\" class=\"table-striped table-bordered table-condensed\">\n",
       "<thead><tr><th>target_name</th><th>s_ra</th><th>s_dec</th><th>proposal_id</th><th>band_list</th><th>scan_intent</th><th>dataproduct_type</th></tr></thead>\n",
       "<thead><tr><th></th><th>deg</th><th>deg</th><th></th><th></th><th></th><th></th></tr></thead>\n",
       "<thead><tr><th>bytes256</th><th>float64</th><th>float64</th><th>bytes64</th><th>bytes30</th><th>bytes256</th><th>bytes5</th></tr></thead>\n",
       "<tr><td>J1717-3342</td><td>259.40012269599487</td><td>-33.702452133300106</td><td>2018.1.00659.L</td><td>6</td><td>PHASE WVR</td><td>cube</td></tr>\n",
       "<tr><td>J1717-3342</td><td>259.40012269599487</td><td>-33.702452133300106</td><td>2018.1.00659.L</td><td>6</td><td>PHASE WVR</td><td>cube</td></tr>\n",
       "<tr><td>J1717-3342</td><td>259.40012269599487</td><td>-33.702452133300106</td><td>2018.1.00659.L</td><td>6</td><td>PHASE WVR</td><td>cube</td></tr>\n",
       "<tr><td>J1717-3342</td><td>259.40012269599487</td><td>-33.702452133300106</td><td>2018.1.00659.L</td><td>6</td><td>PHASE WVR</td><td>cube</td></tr>\n",
       "<tr><td>J1717-3342</td><td>259.4001226960385</td><td>-33.702452133306764</td><td>2018.1.00659.L</td><td>6</td><td>PHASE WVR</td><td>cube</td></tr>\n",
       "<tr><td>J1717-3342</td><td>259.4001226960385</td><td>-33.702452133306764</td><td>2018.1.00659.L</td><td>6</td><td>PHASE WVR</td><td>cube</td></tr>\n",
       "<tr><td>J1717-3342</td><td>259.4001226960385</td><td>-33.702452133306764</td><td>2018.1.00659.L</td><td>6</td><td>PHASE WVR</td><td>cube</td></tr>\n",
       "<tr><td>J1717-3342</td><td>259.4001226960385</td><td>-33.702452133306764</td><td>2018.1.00659.L</td><td>6</td><td>PHASE WVR</td><td>cube</td></tr>\n",
       "<tr><td>J1717-3342</td><td>259.40012269599055</td><td>-33.70245213330034</td><td>2018.1.00659.L</td><td>6</td><td>PHASE WVR</td><td>cube</td></tr>\n",
       "<tr><td>...</td><td>...</td><td>...</td><td>...</td><td>...</td><td>...</td><td>...</td></tr>\n",
       "<tr><td>UVISTA-169850</td><td>150.527</td><td>2.223388888888889</td><td>2015.1.00540.S</td><td>6</td><td>TARGET</td><td>image</td></tr>\n",
       "<tr><td>UVISTA-169850</td><td>150.527</td><td>2.223388888888889</td><td>2015.1.00540.S</td><td>6</td><td>TARGET</td><td>image</td></tr>\n",
       "<tr><td>S2COSMOS.850.24</td><td>150.0379999999723</td><td>2.140444444444668</td><td>2016.1.00279.S</td><td>6</td><td>TARGET</td><td>image</td></tr>\n",
       "<tr><td>S2COSMOS.850.24</td><td>150.0379999999723</td><td>2.140444444444668</td><td>2016.1.00279.S</td><td>6</td><td>TARGET</td><td>image</td></tr>\n",
       "<tr><td>S2COSMOS.850.24</td><td>150.0379999999723</td><td>2.140444444444668</td><td>2016.1.00279.S</td><td>6</td><td>TARGET</td><td>image</td></tr>\n",
       "<tr><td>S2COSMOS.850.24</td><td>150.0379999999723</td><td>2.140444444444668</td><td>2016.1.00279.S</td><td>6</td><td>TARGET</td><td>image</td></tr>\n",
       "<tr><td>S2COSMOS.850.17</td><td>150.24699999997108</td><td>1.5526944444446231</td><td>2016.1.00279.S</td><td>6</td><td>TARGET</td><td>image</td></tr>\n",
       "<tr><td>S2COSMOS.850.17</td><td>150.24699999997108</td><td>1.5526944444446231</td><td>2016.1.00279.S</td><td>6</td><td>TARGET</td><td>image</td></tr>\n",
       "<tr><td>S2COSMOS.850.17</td><td>150.24699999997108</td><td>1.5526944444446231</td><td>2016.1.00279.S</td><td>6</td><td>TARGET</td><td>image</td></tr>\n",
       "<tr><td>S2COSMOS.850.17</td><td>150.24699999997108</td><td>1.5526944444446231</td><td>2016.1.00279.S</td><td>6</td><td>TARGET</td><td>image</td></tr>\n",
       "</table>"
      ],
      "text/plain": [
       "<Table length=1438>\n",
       "  target_name          s_ra        ... scan_intent dataproduct_type\n",
       "                       deg         ...                             \n",
       "    bytes256         float64       ...   bytes256       bytes5     \n",
       "--------------- ------------------ ... ----------- ----------------\n",
       "     J1717-3342 259.40012269599487 ...   PHASE WVR             cube\n",
       "     J1717-3342 259.40012269599487 ...   PHASE WVR             cube\n",
       "     J1717-3342 259.40012269599487 ...   PHASE WVR             cube\n",
       "     J1717-3342 259.40012269599487 ...   PHASE WVR             cube\n",
       "     J1717-3342  259.4001226960385 ...   PHASE WVR             cube\n",
       "     J1717-3342  259.4001226960385 ...   PHASE WVR             cube\n",
       "     J1717-3342  259.4001226960385 ...   PHASE WVR             cube\n",
       "     J1717-3342  259.4001226960385 ...   PHASE WVR             cube\n",
       "     J1717-3342 259.40012269599055 ...   PHASE WVR             cube\n",
       "            ...                ... ...         ...              ...\n",
       "  UVISTA-169850            150.527 ...      TARGET            image\n",
       "  UVISTA-169850            150.527 ...      TARGET            image\n",
       "S2COSMOS.850.24  150.0379999999723 ...      TARGET            image\n",
       "S2COSMOS.850.24  150.0379999999723 ...      TARGET            image\n",
       "S2COSMOS.850.24  150.0379999999723 ...      TARGET            image\n",
       "S2COSMOS.850.24  150.0379999999723 ...      TARGET            image\n",
       "S2COSMOS.850.17 150.24699999997108 ...      TARGET            image\n",
       "S2COSMOS.850.17 150.24699999997108 ...      TARGET            image\n",
       "S2COSMOS.850.17 150.24699999997108 ...      TARGET            image\n",
       "S2COSMOS.850.17 150.24699999997108 ...      TARGET            image"
      ]
     },
     "execution_count": 55,
     "metadata": {},
     "output_type": "execute_result"
    }
   ],
   "source": [
    "myresults1['target_name','s_ra','s_dec','proposal_id','band_list','scan_intent','dataproduct_type']\n"
   ]
  },
  {
   "cell_type": "code",
   "execution_count": 56,
   "metadata": {},
   "outputs": [
    {
     "data": {
      "text/html": [
       "<i>Table length=16</i>\n",
       "<table id=\"table4767184656\" class=\"table-striped table-bordered table-condensed\">\n",
       "<thead><tr><th>target_name</th><th>s_ra</th><th>s_dec</th><th>proposal_id</th><th>band_list</th><th>scan_intent</th><th>dataproduct_type</th></tr></thead>\n",
       "<thead><tr><th></th><th>deg</th><th>deg</th><th></th><th></th><th></th><th></th></tr></thead>\n",
       "<thead><tr><th>bytes256</th><th>float64</th><th>float64</th><th>bytes64</th><th>bytes30</th><th>bytes256</th><th>bytes5</th></tr></thead>\n",
       "<tr><td>DGTau</td><td>66.76958333338001</td><td>26.104388888898175</td><td>2016.1.01042.S</td><td>6</td><td>TARGET</td><td>image</td></tr>\n",
       "<tr><td>DGTau</td><td>66.76958333338001</td><td>26.104388888898175</td><td>2016.1.01042.S</td><td>6</td><td>TARGET</td><td>image</td></tr>\n",
       "<tr><td>DGTau</td><td>66.76958333338001</td><td>26.104388888898175</td><td>2016.1.01042.S</td><td>6</td><td>TARGET</td><td>cube</td></tr>\n",
       "<tr><td>DGTau</td><td>66.76958333338001</td><td>26.104388888898175</td><td>2016.1.01042.S</td><td>6</td><td>TARGET</td><td>image</td></tr>\n",
       "<tr><td>DGTau</td><td>66.76958333338001</td><td>26.104388888898175</td><td>2016.1.01042.S</td><td>6</td><td>TARGET</td><td>cube</td></tr>\n",
       "<tr><td>DGTau</td><td>66.76958333338001</td><td>26.104388888898175</td><td>2016.1.01042.S</td><td>6</td><td>TARGET</td><td>cube</td></tr>\n",
       "<tr><td>DGTau</td><td>66.76958333338001</td><td>26.104388888898175</td><td>2016.1.01042.S</td><td>6</td><td>TARGET</td><td>image</td></tr>\n",
       "<tr><td>DGTau</td><td>66.76958333338001</td><td>26.104388888898175</td><td>2016.1.01042.S</td><td>6</td><td>TARGET</td><td>image</td></tr>\n",
       "<tr><td>DGTau</td><td>66.76958333329125</td><td>26.104388888895862</td><td>2016.1.01042.S</td><td>6</td><td>TARGET</td><td>image</td></tr>\n",
       "<tr><td>DGTau</td><td>66.76958333329125</td><td>26.104388888895862</td><td>2016.1.01042.S</td><td>6</td><td>TARGET</td><td>cube</td></tr>\n",
       "<tr><td>DGTau</td><td>66.76958333329125</td><td>26.104388888895862</td><td>2016.1.01042.S</td><td>6</td><td>TARGET</td><td>image</td></tr>\n",
       "<tr><td>DGTau</td><td>66.76958333329125</td><td>26.104388888895862</td><td>2016.1.01042.S</td><td>6</td><td>TARGET</td><td>image</td></tr>\n",
       "<tr><td>DGTau</td><td>66.76958333329125</td><td>26.104388888895862</td><td>2016.1.01042.S</td><td>6</td><td>TARGET</td><td>cube</td></tr>\n",
       "<tr><td>DGTau</td><td>66.76958333329125</td><td>26.104388888895862</td><td>2016.1.01042.S</td><td>6</td><td>TARGET</td><td>cube</td></tr>\n",
       "<tr><td>DGTau</td><td>66.76958333329125</td><td>26.104388888895862</td><td>2016.1.01042.S</td><td>6</td><td>TARGET</td><td>image</td></tr>\n",
       "<tr><td>DGTau</td><td>66.76958333329125</td><td>26.104388888895862</td><td>2016.1.01042.S</td><td>6</td><td>TARGET</td><td>image</td></tr>\n",
       "</table>"
      ],
      "text/plain": [
       "<Table length=16>\n",
       "target_name        s_ra       ... scan_intent dataproduct_type\n",
       "                   deg        ...                             \n",
       "  bytes256       float64      ...   bytes256       bytes5     \n",
       "----------- ----------------- ... ----------- ----------------\n",
       "      DGTau 66.76958333338001 ...      TARGET            image\n",
       "      DGTau 66.76958333338001 ...      TARGET            image\n",
       "      DGTau 66.76958333338001 ...      TARGET             cube\n",
       "      DGTau 66.76958333338001 ...      TARGET            image\n",
       "      DGTau 66.76958333338001 ...      TARGET             cube\n",
       "      DGTau 66.76958333338001 ...      TARGET             cube\n",
       "      DGTau 66.76958333338001 ...      TARGET            image\n",
       "      DGTau 66.76958333338001 ...      TARGET            image\n",
       "      DGTau 66.76958333329125 ...      TARGET            image\n",
       "      DGTau 66.76958333329125 ...      TARGET             cube\n",
       "      DGTau 66.76958333329125 ...      TARGET            image\n",
       "      DGTau 66.76958333329125 ...      TARGET            image\n",
       "      DGTau 66.76958333329125 ...      TARGET             cube\n",
       "      DGTau 66.76958333329125 ...      TARGET             cube\n",
       "      DGTau 66.76958333329125 ...      TARGET            image\n",
       "      DGTau 66.76958333329125 ...      TARGET            image"
      ]
     },
     "execution_count": 56,
     "metadata": {},
     "output_type": "execute_result"
    }
   ],
   "source": [
    "myresults2['target_name','s_ra','s_dec','proposal_id','band_list','scan_intent','dataproduct_type']\n"
   ]
  },
  {
   "cell_type": "markdown",
   "metadata": {},
   "source": [
    "### Mask results from initial search, to further refine the search"
   ]
  },
  {
   "cell_type": "code",
   "execution_count": 57,
   "metadata": {},
   "outputs": [],
   "source": [
    "# Include only scientific targets (not calibrators)\n",
    "myresults_maskbyintent = (myresults['scan_intent']=='TARGET')\n",
    "myresults_target = myresults[myresults_maskbyintent]\n",
    "\n",
    "# Mask by source name\n",
    "myresults_maskbyname = (myresults['target_name']=='DGTau') | (myresults['target_name']=='DG_TAU') | (myresults['target_name']=='DG_Tau')\n",
    "myresults_name = myresults[myresults_maskbyname]\n",
    "\n",
    "# Mask by product type\n",
    "myresults_maskbytype = (myresults['dataproduct_type']=='image') \n",
    "myresults_type = myresults[myresults_maskbytype]\n",
    "\n",
    "# Mask by source name and type\n",
    "myresults_nametype = myresults[myresults_maskbyname & myresults_maskbytype]\n",
    "\n",
    "\n"
   ]
  },
  {
   "cell_type": "code",
   "execution_count": 58,
   "metadata": {},
   "outputs": [
    {
     "data": {
      "text/html": [
       "<i>Table length=8</i>\n",
       "<table id=\"table4774024752\" class=\"table-striped table-bordered table-condensed\">\n",
       "<thead><tr><th>target_name</th><th>s_ra</th><th>s_dec</th><th>proposal_id</th><th>band_list</th><th>scientific_category</th><th>science_keyword</th><th>scan_intent</th><th>dataproduct_type</th></tr></thead>\n",
       "<thead><tr><th></th><th>deg</th><th>deg</th><th></th><th></th><th></th><th></th><th></th><th></th></tr></thead>\n",
       "<thead><tr><th>bytes256</th><th>float64</th><th>float64</th><th>bytes64</th><th>bytes30</th><th>bytes200</th><th>bytes200</th><th>bytes256</th><th>bytes5</th></tr></thead>\n",
       "<tr><td>DGTau</td><td>66.76958333329125</td><td>26.104388888895862</td><td>2016.1.01042.S</td><td>6</td><td>Disks and planet formation</td><td>Disks around low-mass stars</td><td>TARGET</td><td>image</td></tr>\n",
       "<tr><td>DGTau</td><td>66.76958333329125</td><td>26.104388888895862</td><td>2016.1.01042.S</td><td>6</td><td>Disks and planet formation</td><td>Disks around low-mass stars</td><td>TARGET</td><td>image</td></tr>\n",
       "<tr><td>DGTau</td><td>66.76958333329125</td><td>26.104388888895862</td><td>2016.1.01042.S</td><td>6</td><td>Disks and planet formation</td><td>Disks around low-mass stars</td><td>TARGET</td><td>image</td></tr>\n",
       "<tr><td>DGTau</td><td>66.76958333329125</td><td>26.104388888895862</td><td>2016.1.01042.S</td><td>6</td><td>Disks and planet formation</td><td>Disks around low-mass stars</td><td>TARGET</td><td>image</td></tr>\n",
       "<tr><td>DGTau</td><td>66.76958333329125</td><td>26.104388888895862</td><td>2016.1.01042.S</td><td>6</td><td>Disks and planet formation</td><td>Disks around low-mass stars</td><td>TARGET</td><td>image</td></tr>\n",
       "<tr><td>DGTau</td><td>66.76958333330587</td><td>26.104388888892128</td><td>2016.1.01042.S</td><td>3</td><td>Disks and planet formation</td><td>Disks around low-mass stars</td><td>TARGET</td><td>image</td></tr>\n",
       "<tr><td>DGTau</td><td>66.76958333330587</td><td>26.104388888892128</td><td>2016.1.01042.S</td><td>3</td><td>Disks and planet formation</td><td>Disks around low-mass stars</td><td>TARGET</td><td>image</td></tr>\n",
       "<tr><td>DGTau</td><td>66.76958333330587</td><td>26.104388888892128</td><td>2016.1.01042.S</td><td>3</td><td>Disks and planet formation</td><td>Disks around low-mass stars</td><td>TARGET</td><td>image</td></tr>\n",
       "</table>"
      ],
      "text/plain": [
       "<Table length=8>\n",
       "target_name        s_ra       ... scan_intent dataproduct_type\n",
       "                   deg        ...                             \n",
       "  bytes256       float64      ...   bytes256       bytes5     \n",
       "----------- ----------------- ... ----------- ----------------\n",
       "      DGTau 66.76958333329125 ...      TARGET            image\n",
       "      DGTau 66.76958333329125 ...      TARGET            image\n",
       "      DGTau 66.76958333329125 ...      TARGET            image\n",
       "      DGTau 66.76958333329125 ...      TARGET            image\n",
       "      DGTau 66.76958333329125 ...      TARGET            image\n",
       "      DGTau 66.76958333330587 ...      TARGET            image\n",
       "      DGTau 66.76958333330587 ...      TARGET            image\n",
       "      DGTau 66.76958333330587 ...      TARGET            image"
      ]
     },
     "execution_count": 58,
     "metadata": {},
     "output_type": "execute_result"
    }
   ],
   "source": [
    "myresults_nametype['target_name','s_ra','s_dec','proposal_id','band_list','scientific_category','science_keyword','scan_intent','dataproduct_type']\n"
   ]
  },
  {
   "cell_type": "markdown",
   "metadata": {},
   "source": [
    "### Convert to a Pandas dataframe format\n",
    "### Then write to CSV"
   ]
  },
  {
   "cell_type": "code",
   "execution_count": 59,
   "metadata": {},
   "outputs": [
    {
     "name": "stderr",
     "output_type": "stream",
     "text": [
      "/Users/aplunket/anaconda3/lib/python3.7/site-packages/IPython/core/interactiveshell.py:3331: TableReplaceWarning: converted column 'publication_year' from integer to float\n",
      "  exec(code_obj, self.user_global_ns, self.user_ns)\n"
     ]
    }
   ],
   "source": [
    "mr=myresults.to_pandas()\n",
    "mr['proposal_id'] = mr['proposal_id'].apply(lambda s: s.decode('utf-8')) #this is apparently necessary for some strings, which otherwise will be in quotes and with a leading b"
   ]
  },
  {
   "cell_type": "code",
   "execution_count": 60,
   "metadata": {},
   "outputs": [],
   "source": [
    "mr.to_csv('test.csv')"
   ]
  },
  {
   "cell_type": "code",
   "execution_count": null,
   "metadata": {},
   "outputs": [],
   "source": []
  }
 ],
 "metadata": {
  "kernelspec": {
   "display_name": "Python 3",
   "language": "python",
   "name": "python3"
  },
  "language_info": {
   "codemirror_mode": {
    "name": "ipython",
    "version": 3
   },
   "file_extension": ".py",
   "mimetype": "text/x-python",
   "name": "python",
   "nbconvert_exporter": "python",
   "pygments_lexer": "ipython3",
   "version": "3.7.1"
  },
  "varInspector": {
   "cols": {
    "lenName": 16,
    "lenType": 16,
    "lenVar": 40
   },
   "kernels_config": {
    "python": {
     "delete_cmd_postfix": "",
     "delete_cmd_prefix": "del ",
     "library": "var_list.py",
     "varRefreshCmd": "print(var_dic_list())"
    },
    "r": {
     "delete_cmd_postfix": ") ",
     "delete_cmd_prefix": "rm(",
     "library": "var_list.r",
     "varRefreshCmd": "cat(var_dic_list()) "
    }
   },
   "types_to_exclude": [
    "module",
    "function",
    "builtin_function_or_method",
    "instance",
    "_Feature"
   ],
   "window_display": false
  }
 },
 "nbformat": 4,
 "nbformat_minor": 2
}
