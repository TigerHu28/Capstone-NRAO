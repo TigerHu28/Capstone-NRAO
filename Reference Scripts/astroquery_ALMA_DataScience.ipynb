{
 "cells": [
  {
   "cell_type": "code",
   "execution_count": 1,
   "metadata": {},
   "outputs": [],
   "source": [
    "import astroquery\n",
    "from astroquery.alma import Alma\n",
    "#Documentation: https://astroquery.readthedocs.io/en/latest/alma/alma.html\n",
    "#Install: https://astroquery.readthedocs.io/en/latest/#installation"
   ]
  },
  {
   "cell_type": "markdown",
   "metadata": {},
   "source": [
    "### The ALMA Astroquery keywords"
   ]
  },
  {
   "cell_type": "code",
   "execution_count": 3,
   "metadata": {
    "scrolled": true
   },
   "outputs": [
    {
     "name": "stdout",
     "output_type": "stream",
     "text": [
      "#####KEYWORDS\n",
      "\n",
      "Most common ALMA query keywords are listed below. These keywords are part of the ALMA ObsCore model, an IVOA standard for metadata representation (3rd column). They were also present in original ALMA Web form and, for backwards compatibility can be accessed with their old names (2nd column).\n",
      "More elaborate queries on the ObsCore model are possible with `query_sia` or `query_tap` methods\n",
      "  Description                       Original ALMA keyword               ObsCore keyword                    \n",
      "-------------------------------------------------------------------------------------------------------\n",
      "\n",
      "Position\n",
      "  Source name (astropy Resolver)    source_name_resolver                SkyCoord.from_name                 \n",
      "  Source name (ALMA)                source_name_alma                    target_name                        \n",
      "  RA Dec (Sexagesimal)              ra_dec                              s_ra, s_dec                        \n",
      "  Galactic (Degrees)                galactic                            gal_longitude, gal_latitude        \n",
      "  Angular resolution (arcsec)       spatial_resolution                  spatial_resolution                 \n",
      "  Largest angular scale (arcsec)    spatial_scale_max                   spatial_scale_max                  \n",
      "  Field of view (arcsec)            fov                                 s_fov                              \n",
      "\n",
      "Energy\n",
      "  Frequency (GHz)                   frequency                           frequency                          \n",
      "  Bandwidth (GHz)                   bandwidth                           bandwidth                          \n",
      "  Spectral resolution (KHz)         spectral_resolution                 em_resolution                      \n",
      "  Band                              band_list                           band_list                          \n",
      "\n",
      "Time\n",
      "  Observation date                  start_date                          t_min                              \n",
      "  Integration time (s)              integration_time                    t_exptime                          \n",
      "\n",
      "Polarization\n",
      "  Polarisation type (Single, Dual, Full) polarisation_type                   pol_states                         \n",
      "\n",
      "Observation\n",
      "  Line sensitivity (10 km/s) (mJy/beam) line_sensitivity                    sensitivity_10kms                  \n",
      "  Continuum sensitivity (mJy/beam)  continuum_sensitivity               cont_sensitivity_bandwidth         \n",
      "  Water vapour (mm)                 water_vapour                        pvw                                \n",
      "\n",
      "Project\n",
      "  Project code                      project_code                        proposal_id                        \n",
      "  Project title                     project_title                       obs_title                          \n",
      "  PI name                           pi_name                             obs_creator_name                   \n",
      "  Proposal authors                  proposal_authors                    proposal_authors                   \n",
      "  Project abstract                  project_abstract                    proposal_abstract                  \n",
      "  Publication count                 publication_count                   NA                                 \n",
      "  Science keyword                   science_keyword                     science_keyword                    \n",
      "\n",
      "Publication\n",
      "  Bibcode                           bibcode                             bib_reference                      \n",
      "  Title                             pub_title                           pub_title                          \n",
      "  First author                      first_author                        first_author                       \n",
      "  Authors                           authors                             authors                            \n",
      "  Abstract                          pub_abstract                        pub_abstract                       \n",
      "  Year                              publication_year                    pub_year                           \n",
      "\n",
      "Options\n",
      "  Public data only                  public_data                         data_rights                        \n",
      "  Science observations only         science_observations                calib_level                        \n",
      "\n",
      "Examples of queries:\n",
      "Alma.query('proposal_id':'2011.0.00131.S'}\n",
      "Alma.query({'band_list': ['5', '7']}\n",
      "Alma.query({'source_name_alma': 'GRB021004'})\n",
      "Alma.query(payload=dict(project_code='2017.1.01355.L', source_name_alma='G008.67'))\n",
      "#####ADVANCED SEARCH KEYWORDS\n"
     ]
    }
   ],
   "source": [
    "print('#####KEYWORDS')\n",
    "Alma.help()\n",
    "print('#####ADVANCED SEARCH KEYWORDS')\n",
    "#Alma.help_tap() # --> More elaborate queries\n"
   ]
  },
  {
   "cell_type": "markdown",
   "metadata": {},
   "source": [
    "## A few searches\n",
    "### A sample search based on keyword, resolution, and proposal year\n",
    "Note: Science keywords for ALMA are listed [here](https://almascience.nrao.edu/proposing/proposers-guide#section-61)\n"
   ]
  },
  {
   "cell_type": "code",
   "execution_count": 4,
   "metadata": {},
   "outputs": [
    {
     "ename": "DALServiceError",
     "evalue": "502 Server Error: Proxy Error for url: https://almascience.nrao.edu/tap/sync",
     "output_type": "error",
     "traceback": [
      "\u001b[1;31m---------------------------------------------------------------------------\u001b[0m",
      "\u001b[1;31mValueError\u001b[0m                                Traceback (most recent call last)",
      "\u001b[1;32m~\\anaconda3\\lib\\site-packages\\pyvo\\dal\\query.py\u001b[0m in \u001b[0;36mexecute_votable\u001b[1;34m(self, post)\u001b[0m\n\u001b[0;32m    241\u001b[0m         \u001b[1;32mtry\u001b[0m\u001b[1;33m:\u001b[0m\u001b[1;33m\u001b[0m\u001b[1;33m\u001b[0m\u001b[0m\n\u001b[1;32m--> 242\u001b[1;33m             \u001b[1;32mreturn\u001b[0m \u001b[0mvotableparse\u001b[0m\u001b[1;33m(\u001b[0m\u001b[0mself\u001b[0m\u001b[1;33m.\u001b[0m\u001b[0mexecute_stream\u001b[0m\u001b[1;33m(\u001b[0m\u001b[0mpost\u001b[0m\u001b[1;33m=\u001b[0m\u001b[0mpost\u001b[0m\u001b[1;33m)\u001b[0m\u001b[1;33m.\u001b[0m\u001b[0mread\u001b[0m\u001b[1;33m)\u001b[0m\u001b[1;33m\u001b[0m\u001b[1;33m\u001b[0m\u001b[0m\n\u001b[0m\u001b[0;32m    243\u001b[0m         \u001b[1;32mexcept\u001b[0m \u001b[0mException\u001b[0m \u001b[1;32mas\u001b[0m \u001b[0me\u001b[0m\u001b[1;33m:\u001b[0m\u001b[1;33m\u001b[0m\u001b[1;33m\u001b[0m\u001b[0m\n",
      "\u001b[1;32m~\\anaconda3\\lib\\site-packages\\astropy\\utils\\decorators.py\u001b[0m in \u001b[0;36mwrapper\u001b[1;34m(*args, **kwargs)\u001b[0m\n\u001b[0;32m    534\u001b[0m \u001b[1;33m\u001b[0m\u001b[0m\n\u001b[1;32m--> 535\u001b[1;33m             \u001b[1;32mreturn\u001b[0m \u001b[0mfunction\u001b[0m\u001b[1;33m(\u001b[0m\u001b[1;33m*\u001b[0m\u001b[0margs\u001b[0m\u001b[1;33m,\u001b[0m \u001b[1;33m**\u001b[0m\u001b[0mkwargs\u001b[0m\u001b[1;33m)\u001b[0m\u001b[1;33m\u001b[0m\u001b[1;33m\u001b[0m\u001b[0m\n\u001b[0m\u001b[0;32m    536\u001b[0m \u001b[1;33m\u001b[0m\u001b[0m\n",
      "\u001b[1;32m~\\anaconda3\\lib\\site-packages\\astropy\\io\\votable\\table.py\u001b[0m in \u001b[0;36mparse\u001b[1;34m(source, columns, invalid, verify, chunk_size, table_number, table_id, filename, unit_format, datatype_mapping, _debug_python_based_parser)\u001b[0m\n\u001b[0;32m    166\u001b[0m         return tree.VOTableFile(\n\u001b[1;32m--> 167\u001b[1;33m             config=config, pos=(1, 1)).parse(iterator, config)\n\u001b[0m\u001b[0;32m    168\u001b[0m \u001b[1;33m\u001b[0m\u001b[0m\n",
      "\u001b[1;32m~\\anaconda3\\lib\\site-packages\\astropy\\io\\votable\\tree.py\u001b[0m in \u001b[0;36mparse\u001b[1;34m(self, iterator, config)\u001b[0m\n\u001b[0;32m   3504\u001b[0m \u001b[1;33m\u001b[0m\u001b[0m\n\u001b[1;32m-> 3505\u001b[1;33m         \u001b[1;32mfor\u001b[0m \u001b[0mstart\u001b[0m\u001b[1;33m,\u001b[0m \u001b[0mtag\u001b[0m\u001b[1;33m,\u001b[0m \u001b[0mdata\u001b[0m\u001b[1;33m,\u001b[0m \u001b[0mpos\u001b[0m \u001b[1;32min\u001b[0m \u001b[0miterator\u001b[0m\u001b[1;33m:\u001b[0m\u001b[1;33m\u001b[0m\u001b[1;33m\u001b[0m\u001b[0m\n\u001b[0m\u001b[0;32m   3506\u001b[0m             \u001b[1;32mif\u001b[0m \u001b[0mstart\u001b[0m\u001b[1;33m:\u001b[0m\u001b[1;33m\u001b[0m\u001b[1;33m\u001b[0m\u001b[0m\n",
      "\u001b[1;31mValueError\u001b[0m: 1:49: syntax error",
      "\nDuring handling of the above exception, another exception occurred:\n",
      "\u001b[1;31mDALServiceError\u001b[0m                           Traceback (most recent call last)",
      "\u001b[1;32m<ipython-input-4-88d0484be621>\u001b[0m in \u001b[0;36m<module>\u001b[1;34m\u001b[0m\n\u001b[0;32m      2\u001b[0m \u001b[1;31m#mydict = {'science_keyword':['Outflows, jets and ionized winds','Disks around low-mass stars'],'spatial_resolution':'<0.2','proposal_id':'2016.*'}\u001b[0m\u001b[1;33m\u001b[0m\u001b[1;33m\u001b[0m\u001b[1;33m\u001b[0m\u001b[0m\n\u001b[0;32m      3\u001b[0m \u001b[0mmydict\u001b[0m \u001b[1;33m=\u001b[0m \u001b[1;33m{\u001b[0m\u001b[1;34m'science_keyword'\u001b[0m\u001b[1;33m:\u001b[0m\u001b[1;34m'Disks around low-mass stars'\u001b[0m\u001b[1;33m,\u001b[0m\u001b[1;34m'spatial_resolution'\u001b[0m\u001b[1;33m:\u001b[0m\u001b[1;34m'<0.2'\u001b[0m\u001b[1;33m,\u001b[0m\u001b[1;34m'proposal_id'\u001b[0m\u001b[1;33m:\u001b[0m\u001b[1;34m'2016.*'\u001b[0m\u001b[1;33m}\u001b[0m\u001b[1;33m\u001b[0m\u001b[1;33m\u001b[0m\u001b[0m\n\u001b[1;32m----> 4\u001b[1;33m \u001b[0mmyresults\u001b[0m \u001b[1;33m=\u001b[0m \u001b[0mAlma\u001b[0m\u001b[1;33m.\u001b[0m\u001b[0mquery\u001b[0m\u001b[1;33m(\u001b[0m\u001b[0mpayload\u001b[0m\u001b[1;33m=\u001b[0m\u001b[0mmydict\u001b[0m\u001b[1;33m)\u001b[0m\u001b[1;33m\u001b[0m\u001b[1;33m\u001b[0m\u001b[0m\n\u001b[0m",
      "\u001b[1;32m~\\anaconda3\\lib\\site-packages\\astroquery\\utils\\class_or_instance.py\u001b[0m in \u001b[0;36mf\u001b[1;34m(*args, **kwds)\u001b[0m\n\u001b[0;32m     23\u001b[0m         \u001b[1;32mdef\u001b[0m \u001b[0mf\u001b[0m\u001b[1;33m(\u001b[0m\u001b[1;33m*\u001b[0m\u001b[0margs\u001b[0m\u001b[1;33m,\u001b[0m \u001b[1;33m**\u001b[0m\u001b[0mkwds\u001b[0m\u001b[1;33m)\u001b[0m\u001b[1;33m:\u001b[0m\u001b[1;33m\u001b[0m\u001b[1;33m\u001b[0m\u001b[0m\n\u001b[0;32m     24\u001b[0m             \u001b[1;32mif\u001b[0m \u001b[0mobj\u001b[0m \u001b[1;32mis\u001b[0m \u001b[1;32mnot\u001b[0m \u001b[1;32mNone\u001b[0m\u001b[1;33m:\u001b[0m\u001b[1;33m\u001b[0m\u001b[1;33m\u001b[0m\u001b[0m\n\u001b[1;32m---> 25\u001b[1;33m                 \u001b[1;32mreturn\u001b[0m \u001b[0mself\u001b[0m\u001b[1;33m.\u001b[0m\u001b[0mfn\u001b[0m\u001b[1;33m(\u001b[0m\u001b[0mobj\u001b[0m\u001b[1;33m,\u001b[0m \u001b[1;33m*\u001b[0m\u001b[0margs\u001b[0m\u001b[1;33m,\u001b[0m \u001b[1;33m**\u001b[0m\u001b[0mkwds\u001b[0m\u001b[1;33m)\u001b[0m\u001b[1;33m\u001b[0m\u001b[1;33m\u001b[0m\u001b[0m\n\u001b[0m\u001b[0;32m     26\u001b[0m             \u001b[1;32melse\u001b[0m\u001b[1;33m:\u001b[0m\u001b[1;33m\u001b[0m\u001b[1;33m\u001b[0m\u001b[0m\n\u001b[0;32m     27\u001b[0m                 \u001b[1;32mreturn\u001b[0m \u001b[0mself\u001b[0m\u001b[1;33m.\u001b[0m\u001b[0mfn\u001b[0m\u001b[1;33m(\u001b[0m\u001b[0mcls\u001b[0m\u001b[1;33m,\u001b[0m \u001b[1;33m*\u001b[0m\u001b[0margs\u001b[0m\u001b[1;33m,\u001b[0m \u001b[1;33m**\u001b[0m\u001b[0mkwds\u001b[0m\u001b[1;33m)\u001b[0m\u001b[1;33m\u001b[0m\u001b[1;33m\u001b[0m\u001b[0m\n",
      "\u001b[1;32m~\\anaconda3\\lib\\site-packages\\astroquery\\utils\\process_asyncs.py\u001b[0m in \u001b[0;36mnewmethod\u001b[1;34m(self, *args, **kwargs)\u001b[0m\n\u001b[0;32m     24\u001b[0m             \u001b[0mverbose\u001b[0m \u001b[1;33m=\u001b[0m \u001b[0mkwargs\u001b[0m\u001b[1;33m.\u001b[0m\u001b[0mpop\u001b[0m\u001b[1;33m(\u001b[0m\u001b[1;34m'verbose'\u001b[0m\u001b[1;33m,\u001b[0m \u001b[1;32mFalse\u001b[0m\u001b[1;33m)\u001b[0m\u001b[1;33m\u001b[0m\u001b[1;33m\u001b[0m\u001b[0m\n\u001b[0;32m     25\u001b[0m \u001b[1;33m\u001b[0m\u001b[0m\n\u001b[1;32m---> 26\u001b[1;33m             \u001b[0mresponse\u001b[0m \u001b[1;33m=\u001b[0m \u001b[0mgetattr\u001b[0m\u001b[1;33m(\u001b[0m\u001b[0mself\u001b[0m\u001b[1;33m,\u001b[0m \u001b[0masync_method_name\u001b[0m\u001b[1;33m)\u001b[0m\u001b[1;33m(\u001b[0m\u001b[1;33m*\u001b[0m\u001b[0margs\u001b[0m\u001b[1;33m,\u001b[0m \u001b[1;33m**\u001b[0m\u001b[0mkwargs\u001b[0m\u001b[1;33m)\u001b[0m\u001b[1;33m\u001b[0m\u001b[1;33m\u001b[0m\u001b[0m\n\u001b[0m\u001b[0;32m     27\u001b[0m             \u001b[1;32mif\u001b[0m \u001b[0mkwargs\u001b[0m\u001b[1;33m.\u001b[0m\u001b[0mget\u001b[0m\u001b[1;33m(\u001b[0m\u001b[1;34m'get_query_payload'\u001b[0m\u001b[1;33m)\u001b[0m \u001b[1;32mor\u001b[0m \u001b[0mkwargs\u001b[0m\u001b[1;33m.\u001b[0m\u001b[0mget\u001b[0m\u001b[1;33m(\u001b[0m\u001b[1;34m'field_help'\u001b[0m\u001b[1;33m)\u001b[0m\u001b[1;33m:\u001b[0m\u001b[1;33m\u001b[0m\u001b[1;33m\u001b[0m\u001b[0m\n\u001b[0;32m     28\u001b[0m                 \u001b[1;32mreturn\u001b[0m \u001b[0mresponse\u001b[0m\u001b[1;33m\u001b[0m\u001b[1;33m\u001b[0m\u001b[0m\n",
      "\u001b[1;32m~\\anaconda3\\lib\\site-packages\\astroquery\\alma\\core.py\u001b[0m in \u001b[0;36mquery_async\u001b[1;34m(self, payload, cache, public, science, legacy_columns, max_retries, get_html_version, get_query_payload, **kwargs)\u001b[0m\n\u001b[0;32m    339\u001b[0m                 \u001b[0mpayload\u001b[0m\u001b[1;33m[\u001b[0m\u001b[1;34m'public_data'\u001b[0m\u001b[1;33m]\u001b[0m \u001b[1;33m=\u001b[0m \u001b[1;32mFalse\u001b[0m\u001b[1;33m\u001b[0m\u001b[1;33m\u001b[0m\u001b[0m\n\u001b[0;32m    340\u001b[0m         \u001b[0mquery\u001b[0m \u001b[1;33m=\u001b[0m \u001b[0m_gen_sql\u001b[0m\u001b[1;33m(\u001b[0m\u001b[0mpayload\u001b[0m\u001b[1;33m)\u001b[0m\u001b[1;33m\u001b[0m\u001b[1;33m\u001b[0m\u001b[0m\n\u001b[1;32m--> 341\u001b[1;33m         \u001b[0mresult\u001b[0m \u001b[1;33m=\u001b[0m \u001b[0mself\u001b[0m\u001b[1;33m.\u001b[0m\u001b[0mquery_tap\u001b[0m\u001b[1;33m(\u001b[0m\u001b[0mquery\u001b[0m\u001b[1;33m,\u001b[0m \u001b[1;33m**\u001b[0m\u001b[0mkwargs\u001b[0m\u001b[1;33m)\u001b[0m\u001b[1;33m\u001b[0m\u001b[1;33m\u001b[0m\u001b[0m\n\u001b[0m\u001b[0;32m    342\u001b[0m         \u001b[1;32mif\u001b[0m \u001b[0mresult\u001b[0m\u001b[1;33m:\u001b[0m\u001b[1;33m\u001b[0m\u001b[1;33m\u001b[0m\u001b[0m\n\u001b[0;32m    343\u001b[0m             \u001b[0mresult\u001b[0m \u001b[1;33m=\u001b[0m \u001b[0mresult\u001b[0m\u001b[1;33m.\u001b[0m\u001b[0mto_table\u001b[0m\u001b[1;33m(\u001b[0m\u001b[1;33m)\u001b[0m\u001b[1;33m\u001b[0m\u001b[1;33m\u001b[0m\u001b[0m\n",
      "\u001b[1;32m~\\anaconda3\\lib\\site-packages\\astroquery\\alma\\core.py\u001b[0m in \u001b[0;36mquery_tap\u001b[1;34m(self, query, **kwargs)\u001b[0m\n\u001b[0;32m    411\u001b[0m         \u001b[0mresult\u001b[0m\u001b[1;33m.\u001b[0m\u001b[0mtable\u001b[0m \u001b[1;32min\u001b[0m \u001b[0mAstropy\u001b[0m \u001b[0mtable\u001b[0m \u001b[0mformat\u001b[0m\u001b[1;33m\u001b[0m\u001b[1;33m\u001b[0m\u001b[0m\n\u001b[0;32m    412\u001b[0m         \"\"\"\n\u001b[1;32m--> 413\u001b[1;33m         \u001b[1;32mreturn\u001b[0m \u001b[0mself\u001b[0m\u001b[1;33m.\u001b[0m\u001b[0mtap\u001b[0m\u001b[1;33m.\u001b[0m\u001b[0msearch\u001b[0m\u001b[1;33m(\u001b[0m\u001b[0mquery\u001b[0m\u001b[1;33m,\u001b[0m \u001b[0mlanguage\u001b[0m\u001b[1;33m=\u001b[0m\u001b[1;34m'ADQL'\u001b[0m\u001b[1;33m,\u001b[0m \u001b[1;33m**\u001b[0m\u001b[0mkwargs\u001b[0m\u001b[1;33m)\u001b[0m\u001b[1;33m\u001b[0m\u001b[1;33m\u001b[0m\u001b[0m\n\u001b[0m\u001b[0;32m    414\u001b[0m \u001b[1;33m\u001b[0m\u001b[0m\n\u001b[0;32m    415\u001b[0m     \u001b[1;32mdef\u001b[0m \u001b[0mhelp_tap\u001b[0m\u001b[1;33m(\u001b[0m\u001b[0mself\u001b[0m\u001b[1;33m)\u001b[0m\u001b[1;33m:\u001b[0m\u001b[1;33m\u001b[0m\u001b[1;33m\u001b[0m\u001b[0m\n",
      "\u001b[1;32m~\\anaconda3\\lib\\site-packages\\pyvo\\dal\\tap.py\u001b[0m in \u001b[0;36mrun_sync\u001b[1;34m(self, query, language, maxrec, uploads, **keywords)\u001b[0m\n\u001b[0;32m    246\u001b[0m         return self.create_query(\n\u001b[0;32m    247\u001b[0m             \u001b[0mquery\u001b[0m\u001b[1;33m,\u001b[0m \u001b[0mlanguage\u001b[0m\u001b[1;33m=\u001b[0m\u001b[0mlanguage\u001b[0m\u001b[1;33m,\u001b[0m \u001b[0mmaxrec\u001b[0m\u001b[1;33m=\u001b[0m\u001b[0mmaxrec\u001b[0m\u001b[1;33m,\u001b[0m \u001b[0muploads\u001b[0m\u001b[1;33m=\u001b[0m\u001b[0muploads\u001b[0m\u001b[1;33m,\u001b[0m\u001b[1;33m\u001b[0m\u001b[1;33m\u001b[0m\u001b[0m\n\u001b[1;32m--> 248\u001b[1;33m             **keywords).execute()\n\u001b[0m\u001b[0;32m    249\u001b[0m \u001b[1;33m\u001b[0m\u001b[0m\n\u001b[0;32m    250\u001b[0m     \u001b[1;31m# alias for service discovery\u001b[0m\u001b[1;33m\u001b[0m\u001b[1;33m\u001b[0m\u001b[1;33m\u001b[0m\u001b[0m\n",
      "\u001b[1;32m~\\anaconda3\\lib\\site-packages\\pyvo\\dal\\tap.py\u001b[0m in \u001b[0;36mexecute\u001b[1;34m(self)\u001b[0m\n\u001b[0;32m    940\u001b[0m            \u001b[1;32mfor\u001b[0m \u001b[0merrors\u001b[0m \u001b[0mparsing\u001b[0m \u001b[0mthe\u001b[0m \u001b[0mVOTable\u001b[0m \u001b[0mresponse\u001b[0m\u001b[1;33m\u001b[0m\u001b[1;33m\u001b[0m\u001b[0m\n\u001b[0;32m    941\u001b[0m         \"\"\"\n\u001b[1;32m--> 942\u001b[1;33m         \u001b[1;32mreturn\u001b[0m \u001b[0mTAPResults\u001b[0m\u001b[1;33m(\u001b[0m\u001b[0mself\u001b[0m\u001b[1;33m.\u001b[0m\u001b[0mexecute_votable\u001b[0m\u001b[1;33m(\u001b[0m\u001b[1;33m)\u001b[0m\u001b[1;33m,\u001b[0m \u001b[0murl\u001b[0m\u001b[1;33m=\u001b[0m\u001b[0mself\u001b[0m\u001b[1;33m.\u001b[0m\u001b[0mqueryurl\u001b[0m\u001b[1;33m,\u001b[0m \u001b[0msession\u001b[0m\u001b[1;33m=\u001b[0m\u001b[0mself\u001b[0m\u001b[1;33m.\u001b[0m\u001b[0m_session\u001b[0m\u001b[1;33m)\u001b[0m\u001b[1;33m\u001b[0m\u001b[1;33m\u001b[0m\u001b[0m\n\u001b[0m\u001b[0;32m    943\u001b[0m \u001b[1;33m\u001b[0m\u001b[0m\n\u001b[0;32m    944\u001b[0m     \u001b[1;32mdef\u001b[0m \u001b[0msubmit\u001b[0m\u001b[1;33m(\u001b[0m\u001b[0mself\u001b[0m\u001b[1;33m,\u001b[0m \u001b[0mpost\u001b[0m\u001b[1;33m=\u001b[0m\u001b[1;32mFalse\u001b[0m\u001b[1;33m)\u001b[0m\u001b[1;33m:\u001b[0m\u001b[1;33m\u001b[0m\u001b[1;33m\u001b[0m\u001b[0m\n",
      "\u001b[1;32m~\\anaconda3\\lib\\site-packages\\pyvo\\dal\\query.py\u001b[0m in \u001b[0;36mexecute_votable\u001b[1;34m(self, post)\u001b[0m\n\u001b[0;32m    242\u001b[0m             \u001b[1;32mreturn\u001b[0m \u001b[0mvotableparse\u001b[0m\u001b[1;33m(\u001b[0m\u001b[0mself\u001b[0m\u001b[1;33m.\u001b[0m\u001b[0mexecute_stream\u001b[0m\u001b[1;33m(\u001b[0m\u001b[0mpost\u001b[0m\u001b[1;33m=\u001b[0m\u001b[0mpost\u001b[0m\u001b[1;33m)\u001b[0m\u001b[1;33m.\u001b[0m\u001b[0mread\u001b[0m\u001b[1;33m)\u001b[0m\u001b[1;33m\u001b[0m\u001b[1;33m\u001b[0m\u001b[0m\n\u001b[0;32m    243\u001b[0m         \u001b[1;32mexcept\u001b[0m \u001b[0mException\u001b[0m \u001b[1;32mas\u001b[0m \u001b[0me\u001b[0m\u001b[1;33m:\u001b[0m\u001b[1;33m\u001b[0m\u001b[1;33m\u001b[0m\u001b[0m\n\u001b[1;32m--> 244\u001b[1;33m             \u001b[0mself\u001b[0m\u001b[1;33m.\u001b[0m\u001b[0mraise_if_error\u001b[0m\u001b[1;33m(\u001b[0m\u001b[1;33m)\u001b[0m\u001b[1;33m\u001b[0m\u001b[1;33m\u001b[0m\u001b[0m\n\u001b[0m\u001b[0;32m    245\u001b[0m             \u001b[1;32mraise\u001b[0m \u001b[0mDALFormatError\u001b[0m\u001b[1;33m(\u001b[0m\u001b[0me\u001b[0m\u001b[1;33m,\u001b[0m \u001b[0mself\u001b[0m\u001b[1;33m.\u001b[0m\u001b[0mqueryurl\u001b[0m\u001b[1;33m)\u001b[0m\u001b[1;33m\u001b[0m\u001b[1;33m\u001b[0m\u001b[0m\n\u001b[0;32m    246\u001b[0m \u001b[1;33m\u001b[0m\u001b[0m\n",
      "\u001b[1;32m~\\anaconda3\\lib\\site-packages\\pyvo\\dal\\query.py\u001b[0m in \u001b[0;36mraise_if_error\u001b[1;34m(self)\u001b[0m\n\u001b[0;32m    251\u001b[0m         \u001b[1;32mif\u001b[0m \u001b[0mself\u001b[0m\u001b[1;33m.\u001b[0m\u001b[0m_ex\u001b[0m\u001b[1;33m:\u001b[0m\u001b[1;33m\u001b[0m\u001b[1;33m\u001b[0m\u001b[0m\n\u001b[0;32m    252\u001b[0m             \u001b[0me\u001b[0m \u001b[1;33m=\u001b[0m \u001b[0mself\u001b[0m\u001b[1;33m.\u001b[0m\u001b[0m_ex\u001b[0m\u001b[1;33m\u001b[0m\u001b[1;33m\u001b[0m\u001b[0m\n\u001b[1;32m--> 253\u001b[1;33m             \u001b[1;32mraise\u001b[0m \u001b[0mDALServiceError\u001b[0m\u001b[1;33m.\u001b[0m\u001b[0mfrom_except\u001b[0m\u001b[1;33m(\u001b[0m\u001b[0me\u001b[0m\u001b[1;33m,\u001b[0m \u001b[0mself\u001b[0m\u001b[1;33m.\u001b[0m\u001b[0mqueryurl\u001b[0m\u001b[1;33m)\u001b[0m\u001b[1;33m\u001b[0m\u001b[1;33m\u001b[0m\u001b[0m\n\u001b[0m\u001b[0;32m    254\u001b[0m \u001b[1;33m\u001b[0m\u001b[0m\n\u001b[0;32m    255\u001b[0m     \u001b[1;33m@\u001b[0m\u001b[0mproperty\u001b[0m\u001b[1;33m\u001b[0m\u001b[1;33m\u001b[0m\u001b[0m\n",
      "\u001b[1;31mDALServiceError\u001b[0m: 502 Server Error: Proxy Error for url: https://almascience.nrao.edu/tap/sync"
     ]
    }
   ],
   "source": [
    "## Query based on science keyword, resolution (related to \"beamsize\"), and proposal year (2016 in this case)\n",
    "#mydict = {'science_keyword':['Outflows, jets and ionized winds','Disks around low-mass stars'],'spatial_resolution':'<0.2','proposal_id':'2016.*'}\n",
    "mydict = {'science_keyword':'Disks around low-mass stars','spatial_resolution':'<0.2','proposal_id':'2016.*'}\n",
    "myresults = Alma.query(payload=mydict)\n"
   ]
  },
  {
   "cell_type": "code",
   "execution_count": 53,
   "metadata": {},
   "outputs": [
    {
     "data": {
      "text/html": [
       "<i>Table length=2152</i>\n",
       "<table id=\"table5054506040\" class=\"table-striped table-bordered table-condensed\">\n",
       "<thead><tr><th>target_name</th><th>s_ra</th><th>s_dec</th><th>proposal_id</th><th>band_list</th><th>scan_intent</th><th>dataproduct_type</th></tr></thead>\n",
       "<thead><tr><th></th><th>deg</th><th>deg</th><th></th><th></th><th></th><th></th></tr></thead>\n",
       "<thead><tr><th>bytes256</th><th>float64</th><th>float64</th><th>bytes64</th><th>bytes30</th><th>bytes256</th><th>bytes5</th></tr></thead>\n",
       "<tr><td>J0440+1437</td><td>70.08808040003528</td><td>14.632486600002956</td><td>2016.1.00158.S</td><td>7</td><td>CHECK WVR</td><td>cube</td></tr>\n",
       "<tr><td>J0440+1437</td><td>70.08808040003528</td><td>14.632486600002956</td><td>2016.1.00158.S</td><td>7</td><td>CHECK WVR</td><td>cube</td></tr>\n",
       "<tr><td>J0440+1437</td><td>70.08808040003528</td><td>14.632486600002956</td><td>2016.1.00158.S</td><td>7</td><td>CHECK WVR</td><td>cube</td></tr>\n",
       "<tr><td>J0440+1437</td><td>70.08808040003528</td><td>14.632486600002956</td><td>2016.1.00158.S</td><td>7</td><td>CHECK WVR</td><td>cube</td></tr>\n",
       "<tr><td>J0440+1437</td><td>70.08808040003528</td><td>14.632486600002956</td><td>2016.1.00158.S</td><td>7</td><td>CHECK WVR</td><td>cube</td></tr>\n",
       "<tr><td>J0440+1437</td><td>70.08808040003528</td><td>14.632486600002956</td><td>2016.1.00158.S</td><td>7</td><td>CHECK WVR</td><td>cube</td></tr>\n",
       "<tr><td>J0440+1437</td><td>70.08808040003528</td><td>14.632486600002956</td><td>2016.1.00158.S</td><td>7</td><td>CHECK WVR</td><td>cube</td></tr>\n",
       "<tr><td>DR_Tau</td><td>71.77593244943604</td><td>16.978478356208004</td><td>2016.1.00158.S</td><td>7</td><td>TARGET</td><td>cube</td></tr>\n",
       "<tr><td>DR_Tau</td><td>71.77593244943604</td><td>16.978478356208004</td><td>2016.1.00158.S</td><td>7</td><td>TARGET</td><td>cube</td></tr>\n",
       "<tr><td>...</td><td>...</td><td>...</td><td>...</td><td>...</td><td>...</td><td>...</td></tr>\n",
       "<tr><td>J0510+1800</td><td>77.50987083332886</td><td>18.01155055555559</td><td>2016.A.00026.S</td><td>6</td><td>BANDPASS FLUX WVR</td><td>cube</td></tr>\n",
       "<tr><td>J0510+1800</td><td>77.50987083332886</td><td>18.01155055555559</td><td>2016.A.00026.S</td><td>6</td><td>BANDPASS FLUX WVR</td><td>cube</td></tr>\n",
       "<tr><td>J0547+2721</td><td>86.89228719998108</td><td>27.36578960000124</td><td>2016.A.00026.S</td><td>6</td><td>PHASE WVR</td><td>image</td></tr>\n",
       "<tr><td>J0547+2721</td><td>86.89228719998108</td><td>27.36578960000124</td><td>2016.A.00026.S</td><td>6</td><td>PHASE WVR</td><td>image</td></tr>\n",
       "<tr><td>J0547+2721</td><td>86.89228719998108</td><td>27.36578960000124</td><td>2016.A.00026.S</td><td>6</td><td>PHASE WVR</td><td>image</td></tr>\n",
       "<tr><td>J0547+2721</td><td>86.89228719998108</td><td>27.36578960000124</td><td>2016.A.00026.S</td><td>6</td><td>PHASE WVR</td><td>cube</td></tr>\n",
       "<tr><td>J0547+2721</td><td>86.89228719998108</td><td>27.36578960000124</td><td>2016.A.00026.S</td><td>6</td><td>PHASE WVR</td><td>image</td></tr>\n",
       "<tr><td>J0547+2721</td><td>86.89228719998108</td><td>27.36578960000124</td><td>2016.A.00026.S</td><td>6</td><td>PHASE WVR</td><td>image</td></tr>\n",
       "<tr><td>J0547+2721</td><td>86.89228719998108</td><td>27.36578960000124</td><td>2016.A.00026.S</td><td>6</td><td>PHASE WVR</td><td>cube</td></tr>\n",
       "<tr><td>J0547+2721</td><td>86.89228719998108</td><td>27.36578960000124</td><td>2016.A.00026.S</td><td>6</td><td>PHASE WVR</td><td>cube</td></tr>\n",
       "</table>"
      ],
      "text/plain": [
       "<Table length=2152>\n",
       "target_name        s_ra       ...    scan_intent    dataproduct_type\n",
       "                   deg        ...                                   \n",
       "  bytes256       float64      ...      bytes256          bytes5     \n",
       "----------- ----------------- ... ----------------- ----------------\n",
       " J0440+1437 70.08808040003528 ...         CHECK WVR             cube\n",
       " J0440+1437 70.08808040003528 ...         CHECK WVR             cube\n",
       " J0440+1437 70.08808040003528 ...         CHECK WVR             cube\n",
       " J0440+1437 70.08808040003528 ...         CHECK WVR             cube\n",
       " J0440+1437 70.08808040003528 ...         CHECK WVR             cube\n",
       " J0440+1437 70.08808040003528 ...         CHECK WVR             cube\n",
       " J0440+1437 70.08808040003528 ...         CHECK WVR             cube\n",
       "     DR_Tau 71.77593244943604 ...            TARGET             cube\n",
       "     DR_Tau 71.77593244943604 ...            TARGET             cube\n",
       "        ...               ... ...               ...              ...\n",
       " J0510+1800 77.50987083332886 ... BANDPASS FLUX WVR             cube\n",
       " J0510+1800 77.50987083332886 ... BANDPASS FLUX WVR             cube\n",
       " J0547+2721 86.89228719998108 ...         PHASE WVR            image\n",
       " J0547+2721 86.89228719998108 ...         PHASE WVR            image\n",
       " J0547+2721 86.89228719998108 ...         PHASE WVR            image\n",
       " J0547+2721 86.89228719998108 ...         PHASE WVR             cube\n",
       " J0547+2721 86.89228719998108 ...         PHASE WVR            image\n",
       " J0547+2721 86.89228719998108 ...         PHASE WVR            image\n",
       " J0547+2721 86.89228719998108 ...         PHASE WVR             cube\n",
       " J0547+2721 86.89228719998108 ...         PHASE WVR             cube"
      ]
     },
     "execution_count": 53,
     "metadata": {},
     "output_type": "execute_result"
    }
   ],
   "source": [
    "myresults['target_name','s_ra','s_dec','proposal_id','band_list','scan_intent','dataproduct_type']\n"
   ]
  },
  {
   "cell_type": "markdown",
   "metadata": {},
   "source": [
    "### Another search based on \"source name\"\n",
    "*Notice the differences ... be careful?*"
   ]
  },
  {
   "cell_type": "code",
   "execution_count": 54,
   "metadata": {},
   "outputs": [],
   "source": [
    "mydict1 = {'band_list':'6','SkyCoord.from_name':'DG_Tau'} ## need to look into this \"Source name (astropy Resolver)\"\n",
    "mydict2 = {'band_list':'6','target_name':'DGTau'}\n",
    "myresults1 = Alma.query(payload=mydict1)\n",
    "myresults2 = Alma.query(payload=mydict2)"
   ]
  },
  {
   "cell_type": "code",
   "execution_count": 55,
   "metadata": {},
   "outputs": [
    {
     "data": {
      "text/html": [
       "<i>Table length=1438</i>\n",
       "<table id=\"table5054604680\" class=\"table-striped table-bordered table-condensed\">\n",
       "<thead><tr><th>target_name</th><th>s_ra</th><th>s_dec</th><th>proposal_id</th><th>band_list</th><th>scan_intent</th><th>dataproduct_type</th></tr></thead>\n",
       "<thead><tr><th></th><th>deg</th><th>deg</th><th></th><th></th><th></th><th></th></tr></thead>\n",
       "<thead><tr><th>bytes256</th><th>float64</th><th>float64</th><th>bytes64</th><th>bytes30</th><th>bytes256</th><th>bytes5</th></tr></thead>\n",
       "<tr><td>J1717-3342</td><td>259.40012269599487</td><td>-33.702452133300106</td><td>2018.1.00659.L</td><td>6</td><td>PHASE WVR</td><td>cube</td></tr>\n",
       "<tr><td>J1717-3342</td><td>259.40012269599487</td><td>-33.702452133300106</td><td>2018.1.00659.L</td><td>6</td><td>PHASE WVR</td><td>cube</td></tr>\n",
       "<tr><td>J1717-3342</td><td>259.40012269599487</td><td>-33.702452133300106</td><td>2018.1.00659.L</td><td>6</td><td>PHASE WVR</td><td>cube</td></tr>\n",
       "<tr><td>J1717-3342</td><td>259.40012269599487</td><td>-33.702452133300106</td><td>2018.1.00659.L</td><td>6</td><td>PHASE WVR</td><td>cube</td></tr>\n",
       "<tr><td>J1717-3342</td><td>259.4001226960385</td><td>-33.702452133306764</td><td>2018.1.00659.L</td><td>6</td><td>PHASE WVR</td><td>cube</td></tr>\n",
       "<tr><td>J1717-3342</td><td>259.4001226960385</td><td>-33.702452133306764</td><td>2018.1.00659.L</td><td>6</td><td>PHASE WVR</td><td>cube</td></tr>\n",
       "<tr><td>J1717-3342</td><td>259.4001226960385</td><td>-33.702452133306764</td><td>2018.1.00659.L</td><td>6</td><td>PHASE WVR</td><td>cube</td></tr>\n",
       "<tr><td>J1717-3342</td><td>259.4001226960385</td><td>-33.702452133306764</td><td>2018.1.00659.L</td><td>6</td><td>PHASE WVR</td><td>cube</td></tr>\n",
       "<tr><td>J1717-3342</td><td>259.40012269599055</td><td>-33.70245213330034</td><td>2018.1.00659.L</td><td>6</td><td>PHASE WVR</td><td>cube</td></tr>\n",
       "<tr><td>...</td><td>...</td><td>...</td><td>...</td><td>...</td><td>...</td><td>...</td></tr>\n",
       "<tr><td>UVISTA-169850</td><td>150.527</td><td>2.223388888888889</td><td>2015.1.00540.S</td><td>6</td><td>TARGET</td><td>image</td></tr>\n",
       "<tr><td>UVISTA-169850</td><td>150.527</td><td>2.223388888888889</td><td>2015.1.00540.S</td><td>6</td><td>TARGET</td><td>image</td></tr>\n",
       "<tr><td>S2COSMOS.850.24</td><td>150.0379999999723</td><td>2.140444444444668</td><td>2016.1.00279.S</td><td>6</td><td>TARGET</td><td>image</td></tr>\n",
       "<tr><td>S2COSMOS.850.24</td><td>150.0379999999723</td><td>2.140444444444668</td><td>2016.1.00279.S</td><td>6</td><td>TARGET</td><td>image</td></tr>\n",
       "<tr><td>S2COSMOS.850.24</td><td>150.0379999999723</td><td>2.140444444444668</td><td>2016.1.00279.S</td><td>6</td><td>TARGET</td><td>image</td></tr>\n",
       "<tr><td>S2COSMOS.850.24</td><td>150.0379999999723</td><td>2.140444444444668</td><td>2016.1.00279.S</td><td>6</td><td>TARGET</td><td>image</td></tr>\n",
       "<tr><td>S2COSMOS.850.17</td><td>150.24699999997108</td><td>1.5526944444446231</td><td>2016.1.00279.S</td><td>6</td><td>TARGET</td><td>image</td></tr>\n",
       "<tr><td>S2COSMOS.850.17</td><td>150.24699999997108</td><td>1.5526944444446231</td><td>2016.1.00279.S</td><td>6</td><td>TARGET</td><td>image</td></tr>\n",
       "<tr><td>S2COSMOS.850.17</td><td>150.24699999997108</td><td>1.5526944444446231</td><td>2016.1.00279.S</td><td>6</td><td>TARGET</td><td>image</td></tr>\n",
       "<tr><td>S2COSMOS.850.17</td><td>150.24699999997108</td><td>1.5526944444446231</td><td>2016.1.00279.S</td><td>6</td><td>TARGET</td><td>image</td></tr>\n",
       "</table>"
      ],
      "text/plain": [
       "<Table length=1438>\n",
       "  target_name          s_ra        ... scan_intent dataproduct_type\n",
       "                       deg         ...                             \n",
       "    bytes256         float64       ...   bytes256       bytes5     \n",
       "--------------- ------------------ ... ----------- ----------------\n",
       "     J1717-3342 259.40012269599487 ...   PHASE WVR             cube\n",
       "     J1717-3342 259.40012269599487 ...   PHASE WVR             cube\n",
       "     J1717-3342 259.40012269599487 ...   PHASE WVR             cube\n",
       "     J1717-3342 259.40012269599487 ...   PHASE WVR             cube\n",
       "     J1717-3342  259.4001226960385 ...   PHASE WVR             cube\n",
       "     J1717-3342  259.4001226960385 ...   PHASE WVR             cube\n",
       "     J1717-3342  259.4001226960385 ...   PHASE WVR             cube\n",
       "     J1717-3342  259.4001226960385 ...   PHASE WVR             cube\n",
       "     J1717-3342 259.40012269599055 ...   PHASE WVR             cube\n",
       "            ...                ... ...         ...              ...\n",
       "  UVISTA-169850            150.527 ...      TARGET            image\n",
       "  UVISTA-169850            150.527 ...      TARGET            image\n",
       "S2COSMOS.850.24  150.0379999999723 ...      TARGET            image\n",
       "S2COSMOS.850.24  150.0379999999723 ...      TARGET            image\n",
       "S2COSMOS.850.24  150.0379999999723 ...      TARGET            image\n",
       "S2COSMOS.850.24  150.0379999999723 ...      TARGET            image\n",
       "S2COSMOS.850.17 150.24699999997108 ...      TARGET            image\n",
       "S2COSMOS.850.17 150.24699999997108 ...      TARGET            image\n",
       "S2COSMOS.850.17 150.24699999997108 ...      TARGET            image\n",
       "S2COSMOS.850.17 150.24699999997108 ...      TARGET            image"
      ]
     },
     "execution_count": 55,
     "metadata": {},
     "output_type": "execute_result"
    }
   ],
   "source": [
    "myresults1['target_name','s_ra','s_dec','proposal_id','band_list','scan_intent','dataproduct_type']\n"
   ]
  },
  {
   "cell_type": "code",
   "execution_count": 56,
   "metadata": {},
   "outputs": [
    {
     "data": {
      "text/html": [
       "<i>Table length=16</i>\n",
       "<table id=\"table4767184656\" class=\"table-striped table-bordered table-condensed\">\n",
       "<thead><tr><th>target_name</th><th>s_ra</th><th>s_dec</th><th>proposal_id</th><th>band_list</th><th>scan_intent</th><th>dataproduct_type</th></tr></thead>\n",
       "<thead><tr><th></th><th>deg</th><th>deg</th><th></th><th></th><th></th><th></th></tr></thead>\n",
       "<thead><tr><th>bytes256</th><th>float64</th><th>float64</th><th>bytes64</th><th>bytes30</th><th>bytes256</th><th>bytes5</th></tr></thead>\n",
       "<tr><td>DGTau</td><td>66.76958333338001</td><td>26.104388888898175</td><td>2016.1.01042.S</td><td>6</td><td>TARGET</td><td>image</td></tr>\n",
       "<tr><td>DGTau</td><td>66.76958333338001</td><td>26.104388888898175</td><td>2016.1.01042.S</td><td>6</td><td>TARGET</td><td>image</td></tr>\n",
       "<tr><td>DGTau</td><td>66.76958333338001</td><td>26.104388888898175</td><td>2016.1.01042.S</td><td>6</td><td>TARGET</td><td>cube</td></tr>\n",
       "<tr><td>DGTau</td><td>66.76958333338001</td><td>26.104388888898175</td><td>2016.1.01042.S</td><td>6</td><td>TARGET</td><td>image</td></tr>\n",
       "<tr><td>DGTau</td><td>66.76958333338001</td><td>26.104388888898175</td><td>2016.1.01042.S</td><td>6</td><td>TARGET</td><td>cube</td></tr>\n",
       "<tr><td>DGTau</td><td>66.76958333338001</td><td>26.104388888898175</td><td>2016.1.01042.S</td><td>6</td><td>TARGET</td><td>cube</td></tr>\n",
       "<tr><td>DGTau</td><td>66.76958333338001</td><td>26.104388888898175</td><td>2016.1.01042.S</td><td>6</td><td>TARGET</td><td>image</td></tr>\n",
       "<tr><td>DGTau</td><td>66.76958333338001</td><td>26.104388888898175</td><td>2016.1.01042.S</td><td>6</td><td>TARGET</td><td>image</td></tr>\n",
       "<tr><td>DGTau</td><td>66.76958333329125</td><td>26.104388888895862</td><td>2016.1.01042.S</td><td>6</td><td>TARGET</td><td>image</td></tr>\n",
       "<tr><td>DGTau</td><td>66.76958333329125</td><td>26.104388888895862</td><td>2016.1.01042.S</td><td>6</td><td>TARGET</td><td>cube</td></tr>\n",
       "<tr><td>DGTau</td><td>66.76958333329125</td><td>26.104388888895862</td><td>2016.1.01042.S</td><td>6</td><td>TARGET</td><td>image</td></tr>\n",
       "<tr><td>DGTau</td><td>66.76958333329125</td><td>26.104388888895862</td><td>2016.1.01042.S</td><td>6</td><td>TARGET</td><td>image</td></tr>\n",
       "<tr><td>DGTau</td><td>66.76958333329125</td><td>26.104388888895862</td><td>2016.1.01042.S</td><td>6</td><td>TARGET</td><td>cube</td></tr>\n",
       "<tr><td>DGTau</td><td>66.76958333329125</td><td>26.104388888895862</td><td>2016.1.01042.S</td><td>6</td><td>TARGET</td><td>cube</td></tr>\n",
       "<tr><td>DGTau</td><td>66.76958333329125</td><td>26.104388888895862</td><td>2016.1.01042.S</td><td>6</td><td>TARGET</td><td>image</td></tr>\n",
       "<tr><td>DGTau</td><td>66.76958333329125</td><td>26.104388888895862</td><td>2016.1.01042.S</td><td>6</td><td>TARGET</td><td>image</td></tr>\n",
       "</table>"
      ],
      "text/plain": [
       "<Table length=16>\n",
       "target_name        s_ra       ... scan_intent dataproduct_type\n",
       "                   deg        ...                             \n",
       "  bytes256       float64      ...   bytes256       bytes5     \n",
       "----------- ----------------- ... ----------- ----------------\n",
       "      DGTau 66.76958333338001 ...      TARGET            image\n",
       "      DGTau 66.76958333338001 ...      TARGET            image\n",
       "      DGTau 66.76958333338001 ...      TARGET             cube\n",
       "      DGTau 66.76958333338001 ...      TARGET            image\n",
       "      DGTau 66.76958333338001 ...      TARGET             cube\n",
       "      DGTau 66.76958333338001 ...      TARGET             cube\n",
       "      DGTau 66.76958333338001 ...      TARGET            image\n",
       "      DGTau 66.76958333338001 ...      TARGET            image\n",
       "      DGTau 66.76958333329125 ...      TARGET            image\n",
       "      DGTau 66.76958333329125 ...      TARGET             cube\n",
       "      DGTau 66.76958333329125 ...      TARGET            image\n",
       "      DGTau 66.76958333329125 ...      TARGET            image\n",
       "      DGTau 66.76958333329125 ...      TARGET             cube\n",
       "      DGTau 66.76958333329125 ...      TARGET             cube\n",
       "      DGTau 66.76958333329125 ...      TARGET            image\n",
       "      DGTau 66.76958333329125 ...      TARGET            image"
      ]
     },
     "execution_count": 56,
     "metadata": {},
     "output_type": "execute_result"
    }
   ],
   "source": [
    "myresults2['target_name','s_ra','s_dec','proposal_id','band_list','scan_intent','dataproduct_type']\n"
   ]
  },
  {
   "cell_type": "markdown",
   "metadata": {},
   "source": [
    "### Mask results from initial search, to further refine the search"
   ]
  },
  {
   "cell_type": "code",
   "execution_count": 57,
   "metadata": {},
   "outputs": [],
   "source": [
    "# Include only scientific targets (not calibrators)\n",
    "myresults_maskbyintent = (myresults['scan_intent']=='TARGET')\n",
    "myresults_target = myresults[myresults_maskbyintent]\n",
    "\n",
    "# Mask by source name\n",
    "myresults_maskbyname = (myresults['target_name']=='DGTau') | (myresults['target_name']=='DG_TAU') | (myresults['target_name']=='DG_Tau')\n",
    "myresults_name = myresults[myresults_maskbyname]\n",
    "\n",
    "# Mask by product type\n",
    "myresults_maskbytype = (myresults['dataproduct_type']=='image') \n",
    "myresults_type = myresults[myresults_maskbytype]\n",
    "\n",
    "# Mask by source name and type\n",
    "myresults_nametype = myresults[myresults_maskbyname & myresults_maskbytype]\n",
    "\n",
    "\n"
   ]
  },
  {
   "cell_type": "code",
   "execution_count": 58,
   "metadata": {},
   "outputs": [
    {
     "data": {
      "text/html": [
       "<i>Table length=8</i>\n",
       "<table id=\"table4774024752\" class=\"table-striped table-bordered table-condensed\">\n",
       "<thead><tr><th>target_name</th><th>s_ra</th><th>s_dec</th><th>proposal_id</th><th>band_list</th><th>scientific_category</th><th>science_keyword</th><th>scan_intent</th><th>dataproduct_type</th></tr></thead>\n",
       "<thead><tr><th></th><th>deg</th><th>deg</th><th></th><th></th><th></th><th></th><th></th><th></th></tr></thead>\n",
       "<thead><tr><th>bytes256</th><th>float64</th><th>float64</th><th>bytes64</th><th>bytes30</th><th>bytes200</th><th>bytes200</th><th>bytes256</th><th>bytes5</th></tr></thead>\n",
       "<tr><td>DGTau</td><td>66.76958333329125</td><td>26.104388888895862</td><td>2016.1.01042.S</td><td>6</td><td>Disks and planet formation</td><td>Disks around low-mass stars</td><td>TARGET</td><td>image</td></tr>\n",
       "<tr><td>DGTau</td><td>66.76958333329125</td><td>26.104388888895862</td><td>2016.1.01042.S</td><td>6</td><td>Disks and planet formation</td><td>Disks around low-mass stars</td><td>TARGET</td><td>image</td></tr>\n",
       "<tr><td>DGTau</td><td>66.76958333329125</td><td>26.104388888895862</td><td>2016.1.01042.S</td><td>6</td><td>Disks and planet formation</td><td>Disks around low-mass stars</td><td>TARGET</td><td>image</td></tr>\n",
       "<tr><td>DGTau</td><td>66.76958333329125</td><td>26.104388888895862</td><td>2016.1.01042.S</td><td>6</td><td>Disks and planet formation</td><td>Disks around low-mass stars</td><td>TARGET</td><td>image</td></tr>\n",
       "<tr><td>DGTau</td><td>66.76958333329125</td><td>26.104388888895862</td><td>2016.1.01042.S</td><td>6</td><td>Disks and planet formation</td><td>Disks around low-mass stars</td><td>TARGET</td><td>image</td></tr>\n",
       "<tr><td>DGTau</td><td>66.76958333330587</td><td>26.104388888892128</td><td>2016.1.01042.S</td><td>3</td><td>Disks and planet formation</td><td>Disks around low-mass stars</td><td>TARGET</td><td>image</td></tr>\n",
       "<tr><td>DGTau</td><td>66.76958333330587</td><td>26.104388888892128</td><td>2016.1.01042.S</td><td>3</td><td>Disks and planet formation</td><td>Disks around low-mass stars</td><td>TARGET</td><td>image</td></tr>\n",
       "<tr><td>DGTau</td><td>66.76958333330587</td><td>26.104388888892128</td><td>2016.1.01042.S</td><td>3</td><td>Disks and planet formation</td><td>Disks around low-mass stars</td><td>TARGET</td><td>image</td></tr>\n",
       "</table>"
      ],
      "text/plain": [
       "<Table length=8>\n",
       "target_name        s_ra       ... scan_intent dataproduct_type\n",
       "                   deg        ...                             \n",
       "  bytes256       float64      ...   bytes256       bytes5     \n",
       "----------- ----------------- ... ----------- ----------------\n",
       "      DGTau 66.76958333329125 ...      TARGET            image\n",
       "      DGTau 66.76958333329125 ...      TARGET            image\n",
       "      DGTau 66.76958333329125 ...      TARGET            image\n",
       "      DGTau 66.76958333329125 ...      TARGET            image\n",
       "      DGTau 66.76958333329125 ...      TARGET            image\n",
       "      DGTau 66.76958333330587 ...      TARGET            image\n",
       "      DGTau 66.76958333330587 ...      TARGET            image\n",
       "      DGTau 66.76958333330587 ...      TARGET            image"
      ]
     },
     "execution_count": 58,
     "metadata": {},
     "output_type": "execute_result"
    }
   ],
   "source": [
    "myresults_nametype['target_name','s_ra','s_dec','proposal_id','band_list','scientific_category','science_keyword','scan_intent','dataproduct_type']\n"
   ]
  },
  {
   "cell_type": "markdown",
   "metadata": {},
   "source": [
    "### Convert to a Pandas dataframe format\n",
    "### Then write to CSV"
   ]
  },
  {
   "cell_type": "code",
   "execution_count": 59,
   "metadata": {},
   "outputs": [
    {
     "name": "stderr",
     "output_type": "stream",
     "text": [
      "/Users/aplunket/anaconda3/lib/python3.7/site-packages/IPython/core/interactiveshell.py:3331: TableReplaceWarning: converted column 'publication_year' from integer to float\n",
      "  exec(code_obj, self.user_global_ns, self.user_ns)\n"
     ]
    }
   ],
   "source": [
    "mr=myresults.to_pandas()\n",
    "mr['proposal_id'] = mr['proposal_id'].apply(lambda s: s.decode('utf-8')) #this is apparently necessary for some strings, which otherwise will be in quotes and with a leading b"
   ]
  },
  {
   "cell_type": "code",
   "execution_count": 60,
   "metadata": {},
   "outputs": [],
   "source": [
    "mr.to_csv('test.csv')"
   ]
  },
  {
   "cell_type": "code",
   "execution_count": null,
   "metadata": {},
   "outputs": [],
   "source": []
  }
 ],
 "metadata": {
  "kernelspec": {
   "display_name": "Python 3",
   "language": "python",
   "name": "python3"
  },
  "language_info": {
   "codemirror_mode": {
    "name": "ipython",
    "version": 3
   },
   "file_extension": ".py",
   "mimetype": "text/x-python",
   "name": "python",
   "nbconvert_exporter": "python",
   "pygments_lexer": "ipython3",
   "version": "3.7.9"
  },
  "varInspector": {
   "cols": {
    "lenName": 16,
    "lenType": 16,
    "lenVar": 40
   },
   "kernels_config": {
    "python": {
     "delete_cmd_postfix": "",
     "delete_cmd_prefix": "del ",
     "library": "var_list.py",
     "varRefreshCmd": "print(var_dic_list())"
    },
    "r": {
     "delete_cmd_postfix": ") ",
     "delete_cmd_prefix": "rm(",
     "library": "var_list.r",
     "varRefreshCmd": "cat(var_dic_list()) "
    }
   },
   "types_to_exclude": [
    "module",
    "function",
    "builtin_function_or_method",
    "instance",
    "_Feature"
   ],
   "window_display": false
  }
 },
 "nbformat": 4,
 "nbformat_minor": 2
}
